{
 "cells": [
  {
   "cell_type": "markdown",
   "id": "246219d8-9563-4960-955d-3a80205f0c70",
   "metadata": {},
   "source": [
    "# Python Data Structures"
   ]
  },
  {
   "cell_type": "markdown",
   "id": "df60beb7-55b5-480a-8771-6e5722e060ba",
   "metadata": {},
   "source": [
    "<br>"
   ]
  },
  {
   "cell_type": "markdown",
   "id": "4033a3d4-7828-4c86-98ce-36d68170ab67",
   "metadata": {},
   "source": [
    "## Lists"
   ]
  },
  {
   "cell_type": "markdown",
   "id": "dc7e97fe-b317-4b35-8c9e-d87134e90c1c",
   "metadata": {},
   "source": [
    "- Can contain any number of items\n",
    "- Can contain different types of items\n",
    "- Can be altered once created (they are mutable)\n",
    "- Items have a particular order\n"
   ]
  },
  {
   "cell_type": "code",
   "execution_count": 1,
   "id": "2a313103-589b-4df9-b4b2-7f4fc5f3098e",
   "metadata": {},
   "outputs": [],
   "source": [
    "# Empty list\n",
    "a_list = []"
   ]
  },
  {
   "cell_type": "code",
   "execution_count": 2,
   "id": "48c0e3f6-be6a-4205-b34a-38f40dca12e6",
   "metadata": {},
   "outputs": [
    {
     "data": {
      "text/plain": [
       "list"
      ]
     },
     "execution_count": 2,
     "metadata": {},
     "output_type": "execute_result"
    }
   ],
   "source": [
    "# type\n",
    "type(a_list)"
   ]
  },
  {
   "cell_type": "markdown",
   "id": "e4c2d342-358f-4056-a8f1-1097d34cac63",
   "metadata": {},
   "source": [
    "<br>"
   ]
  },
  {
   "cell_type": "code",
   "execution_count": 3,
   "id": "331f63e0-3342-426d-93b0-895aeb17266c",
   "metadata": {},
   "outputs": [],
   "source": [
    "lst = [1, 10, 50]"
   ]
  },
  {
   "cell_type": "code",
   "execution_count": 4,
   "id": "c2869135-9b91-4ad0-bd24-99408a808d5f",
   "metadata": {},
   "outputs": [
    {
     "data": {
      "text/plain": [
       "3"
      ]
     },
     "execution_count": 4,
     "metadata": {},
     "output_type": "execute_result"
    }
   ],
   "source": [
    "# Lenght of a list\n",
    "len(lst)"
   ]
  },
  {
   "cell_type": "code",
   "execution_count": 5,
   "id": "eead8721-9287-49c4-99e5-8d1e42202750",
   "metadata": {},
   "outputs": [],
   "source": [
    "fruits = ['apple', 'orange', 'banana', 'pear', 'apple', 'peach', 'mango']"
   ]
  },
  {
   "cell_type": "code",
   "execution_count": 6,
   "id": "8379ebed-c984-4356-ba88-a4b2fd5316ad",
   "metadata": {},
   "outputs": [
    {
     "data": {
      "text/plain": [
       "'apple'"
      ]
     },
     "execution_count": 6,
     "metadata": {},
     "output_type": "execute_result"
    }
   ],
   "source": [
    "# Get the first fruit\n",
    "fruits[0]"
   ]
  },
  {
   "cell_type": "code",
   "execution_count": 7,
   "id": "a2c12361-be1d-46d4-843b-e21fb13bbec9",
   "metadata": {},
   "outputs": [
    {
     "data": {
      "text/plain": [
       "'mango'"
      ]
     },
     "execution_count": 7,
     "metadata": {},
     "output_type": "execute_result"
    }
   ],
   "source": [
    "# Get last fruit\n",
    "fruits[-1]"
   ]
  },
  {
   "cell_type": "code",
   "execution_count": 8,
   "id": "e50820e8-9d2a-42f8-8c6f-bcfda10d8953",
   "metadata": {},
   "outputs": [
    {
     "data": {
      "text/plain": [
       "2"
      ]
     },
     "execution_count": 8,
     "metadata": {},
     "output_type": "execute_result"
    }
   ],
   "source": [
    "# Count how many apples\n",
    "fruits.count('apple')"
   ]
  },
  {
   "cell_type": "code",
   "execution_count": 9,
   "id": "677e7385-a462-4222-a3b8-02ff7edcd619",
   "metadata": {},
   "outputs": [
    {
     "data": {
      "text/plain": [
       "0"
      ]
     },
     "execution_count": 9,
     "metadata": {},
     "output_type": "execute_result"
    }
   ],
   "source": [
    "fruits.count('plum')"
   ]
  },
  {
   "cell_type": "code",
   "execution_count": 10,
   "id": "037a356c-6fe7-44a4-b9d2-2c8d6f5fd73a",
   "metadata": {},
   "outputs": [
    {
     "data": {
      "text/plain": [
       "['apple', 'orange', 'banana', 'pear', 'apple', 'peach', 'mango', 'plum']"
      ]
     },
     "execution_count": 10,
     "metadata": {},
     "output_type": "execute_result"
    }
   ],
   "source": [
    "# Add a plum\n",
    "fruits.append('plum')\n",
    "fruits"
   ]
  },
  {
   "cell_type": "code",
   "execution_count": 11,
   "id": "3a8d6a23-3810-4618-8947-45afbc1d49bb",
   "metadata": {},
   "outputs": [
    {
     "data": {
      "text/plain": [
       "0"
      ]
     },
     "execution_count": 11,
     "metadata": {},
     "output_type": "execute_result"
    }
   ],
   "source": [
    "# Index of apple. Returns first instance\n",
    "fruits.index('apple')"
   ]
  },
  {
   "cell_type": "code",
   "execution_count": 12,
   "id": "57a5db83-d209-4317-a7d1-489abc956fa1",
   "metadata": {},
   "outputs": [
    {
     "data": {
      "text/plain": [
       "6"
      ]
     },
     "execution_count": 12,
     "metadata": {},
     "output_type": "execute_result"
    }
   ],
   "source": [
    "# Index of mango\n",
    "fruits.index('mango')"
   ]
  },
  {
   "cell_type": "code",
   "execution_count": 13,
   "id": "9b4cbea4-0ec3-4398-bb17-106e0dcb8ac5",
   "metadata": {},
   "outputs": [
    {
     "data": {
      "text/plain": [
       "['plum', 'mango', 'peach', 'apple', 'pear', 'banana', 'orange', 'apple']"
      ]
     },
     "execution_count": 13,
     "metadata": {},
     "output_type": "execute_result"
    }
   ],
   "source": [
    "# Reverse order of items in place\n",
    "fruits.reverse()\n",
    "fruits"
   ]
  },
  {
   "cell_type": "code",
   "execution_count": 14,
   "id": "fcccad2a-c769-4f36-b78e-cb0104623683",
   "metadata": {},
   "outputs": [
    {
     "data": {
      "text/plain": [
       "['plum',\n",
       " 'mango',\n",
       " 'peach',\n",
       " 'apple',\n",
       " 'pear',\n",
       " 'banana',\n",
       " 'orange',\n",
       " 'apple',\n",
       " 1,\n",
       " 10,\n",
       " 50]"
      ]
     },
     "execution_count": 14,
     "metadata": {},
     "output_type": "execute_result"
    }
   ],
   "source": [
    "# Extend list \n",
    "fruits.extend(lst)\n",
    "fruits"
   ]
  },
  {
   "cell_type": "code",
   "execution_count": 15,
   "id": "5940d52a-6666-4ada-ba2f-a2502e32b432",
   "metadata": {},
   "outputs": [
    {
     "data": {
      "text/plain": [
       "['plum',\n",
       " 'blueberry',\n",
       " 'mango',\n",
       " 'peach',\n",
       " 'apple',\n",
       " 'pear',\n",
       " 'banana',\n",
       " 'orange',\n",
       " 'apple',\n",
       " 1,\n",
       " 10,\n",
       " 50]"
      ]
     },
     "execution_count": 15,
     "metadata": {},
     "output_type": "execute_result"
    }
   ],
   "source": [
    "# Insert item into list at postion 2\n",
    "fruits.insert(1,'blueberry')\n",
    "fruits"
   ]
  },
  {
   "cell_type": "code",
   "execution_count": 16,
   "id": "cda98b67-b6e6-44cb-b896-4886b971b5c6",
   "metadata": {},
   "outputs": [
    {
     "data": {
      "text/plain": [
       "['plum',\n",
       " 'blueberry',\n",
       " 'mango',\n",
       " 'peach',\n",
       " 'apple',\n",
       " 'pear',\n",
       " 'banana',\n",
       " 'orange',\n",
       " 'apple',\n",
       " 1,\n",
       " 10]"
      ]
     },
     "execution_count": 16,
     "metadata": {},
     "output_type": "execute_result"
    }
   ],
   "source": [
    "# Pop. Removes last item\n",
    "fruits.pop()\n",
    "fruits"
   ]
  },
  {
   "cell_type": "code",
   "execution_count": 17,
   "id": "330e6e54-4f76-4146-a52a-5045808ebfaf",
   "metadata": {},
   "outputs": [
    {
     "data": {
      "text/plain": [
       "['plum',\n",
       " 'blueberry',\n",
       " 'mango',\n",
       " 'peach',\n",
       " 'apple',\n",
       " 'pear',\n",
       " 'banana',\n",
       " 'orange',\n",
       " 'apple',\n",
       " 10]"
      ]
     },
     "execution_count": 17,
     "metadata": {},
     "output_type": "execute_result"
    }
   ],
   "source": [
    "# Pop at a specific index\n",
    "fruits.pop(-2)\n",
    "fruits"
   ]
  },
  {
   "cell_type": "code",
   "execution_count": 18,
   "id": "b9187e58-a08f-4fc2-84cf-5366a0156176",
   "metadata": {},
   "outputs": [
    {
     "data": {
      "text/plain": [
       "10"
      ]
     },
     "execution_count": 18,
     "metadata": {},
     "output_type": "execute_result"
    }
   ],
   "source": [
    "# Popping off last item (10)\n",
    "fruits.pop(-1)"
   ]
  },
  {
   "cell_type": "code",
   "execution_count": 19,
   "id": "9a9613fc-4591-442e-81ee-44d3965be64c",
   "metadata": {},
   "outputs": [
    {
     "name": "stdout",
     "output_type": "stream",
     "text": [
      "we have mangos!\n"
     ]
    }
   ],
   "source": [
    "# checking if an item is in a item\n",
    "for fruit in fruits:\n",
    "    if fruit == 'mango':\n",
    "        print('we have mangos!')"
   ]
  },
  {
   "cell_type": "code",
   "execution_count": 20,
   "id": "62b4206e-4e23-4381-9904-e502a7bf8d68",
   "metadata": {},
   "outputs": [
    {
     "name": "stdout",
     "output_type": "stream",
     "text": [
      "oh no, we don't have grapes :(\n"
     ]
    }
   ],
   "source": [
    "for fruit in fruits:\n",
    "    if fruit == 'grape':\n",
    "        print('we have grapes!')\n",
    "    else:\n",
    "        print('oh no, we don\\'t have grapes :(')\n",
    "        break"
   ]
  },
  {
   "cell_type": "code",
   "execution_count": 21,
   "id": "9251b0f6-bfbd-44a7-8eb0-d9e18e4f9e09",
   "metadata": {},
   "outputs": [
    {
     "data": {
      "text/plain": [
       "['plum', 'blueberry', 'mango', 'peach', 'apple', 'pear', 'banana', 'orange']"
      ]
     },
     "execution_count": 21,
     "metadata": {},
     "output_type": "execute_result"
    }
   ],
   "source": [
    "# Deleting an item by index using del\n",
    "del fruits[-1]\n",
    "fruits"
   ]
  },
  {
   "cell_type": "code",
   "execution_count": 22,
   "id": "cfb9c9b2-c70f-4e56-aae2-2d29eb9a7c93",
   "metadata": {},
   "outputs": [
    {
     "data": {
      "text/plain": [
       "['plum', 'blueberry', 'mango', 'peach', 'apple', 'banana', 'orange']"
      ]
     },
     "execution_count": 22,
     "metadata": {},
     "output_type": "execute_result"
    }
   ],
   "source": [
    "# Removing item using remove()\n",
    "fruits.remove('pear')\n",
    "fruits"
   ]
  },
  {
   "cell_type": "code",
   "execution_count": 23,
   "id": "1a57d24c-2e31-4683-8d4f-d6fa29d11b9b",
   "metadata": {},
   "outputs": [],
   "source": [
    "# new list\n",
    "veg = ['carrot', 'pepper']"
   ]
  },
  {
   "cell_type": "code",
   "execution_count": 24,
   "id": "4b8aa708-4664-4cb9-8780-1ae1446cf7b2",
   "metadata": {},
   "outputs": [
    {
     "data": {
      "text/plain": [
       "['plum',\n",
       " 'blueberry',\n",
       " 'mango',\n",
       " 'peach',\n",
       " 'apple',\n",
       " 'banana',\n",
       " 'orange',\n",
       " 'carrot',\n",
       " 'pepper']"
      ]
     },
     "execution_count": 24,
     "metadata": {},
     "output_type": "execute_result"
    }
   ],
   "source": [
    "# Combine lists using operators\n",
    "fruit_and_veg = fruits + veg\n",
    "fruit_and_veg"
   ]
  },
  {
   "cell_type": "code",
   "execution_count": 25,
   "id": "97d2564b-d6cd-44b6-9f76-f26aa3e80783",
   "metadata": {},
   "outputs": [
    {
     "data": {
      "text/plain": [
       "['mango', 'peach']"
      ]
     },
     "execution_count": 25,
     "metadata": {},
     "output_type": "execute_result"
    }
   ],
   "source": [
    "# Get a slice\n",
    "fruit_and_veg[2:4]"
   ]
  },
  {
   "cell_type": "markdown",
   "id": "1bb5f3c2-c13b-4fa2-9a4f-6211c2be01df",
   "metadata": {},
   "source": [
    "note, it slices the item up to but NOT inculding 4."
   ]
  },
  {
   "cell_type": "code",
   "execution_count": 27,
   "id": "29e2a9a8-5958-475f-bb62-a9d9cb5c4509",
   "metadata": {},
   "outputs": [
    {
     "data": {
      "text/plain": [
       "['apple',\n",
       " 'banana',\n",
       " 'blueberry',\n",
       " 'carrot',\n",
       " 'mango',\n",
       " 'orange',\n",
       " 'peach',\n",
       " 'pepper',\n",
       " 'plum']"
      ]
     },
     "execution_count": 27,
     "metadata": {},
     "output_type": "execute_result"
    }
   ],
   "source": [
    "# Sorts elements in order \n",
    "fruit_and_veg.sort()\n",
    "fruit_and_veg"
   ]
  },
  {
   "cell_type": "code",
   "execution_count": null,
   "id": "75fa5861-9cf2-4b81-bc78-0a3bb5800787",
   "metadata": {},
   "outputs": [],
   "source": [
    "# sorted\n",
    "fruits()"
   ]
  }
 ],
 "metadata": {
  "kernelspec": {
   "display_name": "Python 3 (ipykernel)",
   "language": "python",
   "name": "python3"
  },
  "language_info": {
   "codemirror_mode": {
    "name": "ipython",
    "version": 3
   },
   "file_extension": ".py",
   "mimetype": "text/x-python",
   "name": "python",
   "nbconvert_exporter": "python",
   "pygments_lexer": "ipython3",
   "version": "3.8.11"
  }
 },
 "nbformat": 4,
 "nbformat_minor": 5
}
